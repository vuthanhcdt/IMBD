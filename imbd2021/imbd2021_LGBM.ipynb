{
  "cells": [
    {
      "cell_type": "markdown",
      "metadata": {
        "id": "Xb_r-Snp59y_"
      },
      "source": [
        "LGBM程式碼"
      ]
    },
    {
      "cell_type": "code",
      "execution_count": 4,
      "metadata": {
        "colab": {
          "base_uri": "https://localhost:8080/"
        },
        "id": "P8I9VPpp6KHr",
        "outputId": "769449a8-e67d-48d1-cb8b-9d1f5a4103b9"
      },
      "outputs": [
        {
          "name": "stdout",
          "output_type": "stream",
          "text": [
            "[LightGBM] [Info] Auto-choosing row-wise multi-threading, the overhead of testing was 0.000438 seconds.\n",
            "You can set `force_row_wise=true` to remove the overhead.\n",
            "And if memory is not enough, you can set `force_col_wise=true`.\n",
            "[LightGBM] [Info] Total Bins 883\n",
            "[LightGBM] [Info] Number of data points in the train set: 98072, number of used features: 12\n",
            "[LightGBM] [Info] Start training from score 37.998735\n",
            "mae =  3.5282517857079583\n"
          ]
        }
      ],
      "source": [
        "import pandas as pd\n",
        "import numpy  as np\n",
        "import lightgbm as lgb\n",
        "from sklearn.metrics import mean_absolute_error\n",
        "\n",
        "header = ['F1', 'F2', 'F3', 'F4', 'F5', 'F6', 'F7', 'F8', 'F9', 'F10', 'F11', 'F12']\n",
        "# %%\n",
        "#讀取與處理訓練集數據\n",
        "path = './data/train.csv'\n",
        "\n",
        "drop_columns = ['SeqNo','O']\n",
        "\n",
        "data = pd.read_csv(path, engine ='python',index_col=None)\n",
        "label = data['O']\n",
        "data = data.drop(drop_columns,axis=1)\n",
        "\n",
        "# %%\n",
        "#模型訓練\n",
        "lgb_model = lgb.LGBMRegressor()\n",
        "lgb_model.fit(data,label)\n",
        "\n",
        "# %%\n",
        "#讀取與處理測試集數據\n",
        "test_path = './data/test.csv'\n",
        "test_data = pd.read_csv(test_path, engine ='python',index_col=None)\n",
        "test_label = test_data['O']\n",
        "test_data = test_data.drop(drop_columns,axis=1)\n",
        "\n",
        "# %%\n",
        "#預測\n",
        "pred_y = lgb_model.predict(test_data)\n",
        "\n",
        "#mae\n",
        "mae = mean_absolute_error(test_label, pred_y)\n",
        "print('mae = ',mae)#3.528\n",
        "\n",
        "resultPath = './pred_result/'\n",
        "np.savetxt(resultPath+'testdata_Step'+str(1)+'.csv', pred_y, delimiter=',')"
      ]
    },
    {
      "cell_type": "markdown",
      "metadata": {
        "id": "98imkveh5jkk"
      },
      "source": []
    }
  ],
  "metadata": {
    "colab": {
      "provenance": []
    },
    "kernelspec": {
      "display_name": "Python 3",
      "name": "python3"
    },
    "language_info": {
      "codemirror_mode": {
        "name": "ipython",
        "version": 3
      },
      "file_extension": ".py",
      "mimetype": "text/x-python",
      "name": "python",
      "nbconvert_exporter": "python",
      "pygments_lexer": "ipython3",
      "version": "3.10.12"
    }
  },
  "nbformat": 4,
  "nbformat_minor": 0
}
