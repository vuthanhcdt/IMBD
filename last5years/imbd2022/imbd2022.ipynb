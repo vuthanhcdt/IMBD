{
  "cells": [
    {
      "cell_type": "markdown",
      "metadata": {
        "id": "ynQPov-YeQ6y"
      },
      "source": [
        "# **IMBD2022 表面膜厚預測**"
      ]
    },
    {
      "cell_type": "markdown",
      "metadata": {
        "id": "a3_3cTK0S2Ih"
      },
      "source": [
        "ProProcess"
      ]
    },
    {
      "cell_type": "code",
      "execution_count": 8,
      "metadata": {
        "id": "GpkI4uA3TAe0"
      },
      "outputs": [],
      "source": [
        "import pandas as pd\n",
        "import numpy as np\n",
        "import matplotlib.pyplot as plt\n",
        "from sklearn.model_selection import train_test_split\n",
        "from sklearn.utils import shuffle\n",
        "from sklearn import preprocessing\n",
        "from sklearn.metrics import mean_squared_error\n",
        "from sklearn.model_selection import train_test_split\n",
        "from sklearn.metrics import mean_squared_error\n",
        "\n",
        "class process:\n",
        "    def __init__(self):\n",
        "        pass\n",
        "\n",
        "    def shuffle(self,X,Y):\n",
        "        X,Y=shuffle(X,Y, random_state=0)\n",
        "        return X,Y\n",
        "\n",
        "    def plot_predict_GT(self,GT,predict,RMSE,fig_save_folder,label_name):\n",
        "        x_list=list()\n",
        "        for index in range(GT.shape[0]):\n",
        "            x_list.append(index)\n",
        "        x_np=np.array(x_list)\n",
        "        plt.plot(x_np, GT,'ro-')\n",
        "        plt.plot(x_np, predict,'g*--')\n",
        "        plt.grid(True)\n",
        "        plt.title(label_name+':'+str(RMSE))\n",
        "        plt.legend(['GT_'+label_name,'Predict_'+label_name])\n",
        "        plt.xlabel('Index of X')\n",
        "        plt.ylabel('Thickness')\n",
        "        plt.savefig(fig_save_folder+'_'+label_name+'.png')\n",
        "        plt.clf()\n",
        "            \n",
        "    def load_dataset(self,xlsx_path,train_mode=True):\n",
        "        df = pd.read_excel(xlsx_path)\n",
        "        if(not train_mode):\n",
        "            df=df.drop([\n",
        "                        'create_time',\n",
        "                        'update_time'\n",
        "                        ], axis=1)\n",
        "        return df\n",
        "\n",
        "    def fillnan(self,data,drop_nan=True):\n",
        "        print('Toal number of NAN before replant:',data.isnull().sum())\n",
        "        if(drop_nan):\n",
        "            data = data.dropna()\n",
        "        else:\n",
        "            for head in data.columns:\n",
        "                data[head]=data[head].fillna(data[head].mean())\n",
        "        print('Toal number of NAN after replant:',data.isnull().sum())\n",
        "        return data\n",
        "\n",
        "    def Get_Data_and_label(self,data,label_col=[],train_mode=True):\n",
        "        Y=None\n",
        "        if(train_mode):\n",
        "            Y=data[label_col].to_numpy()\n",
        "            data=data.drop(label_col,axis=1)\n",
        "        X=data\n",
        "        return X,Y\n",
        "\n",
        "    def Normalization(self,X):\n",
        "        Normalize_X=preprocessing.scale(X)\n",
        "        return Normalize_X\n",
        "\n",
        "    def splitdata(self,X,Y):\n",
        "        X_train, X_val, y_train, y_val = train_test_split(X, Y, test_size=0.2)\n",
        "        return X_train, X_val, y_train, y_val\n",
        "\n",
        "\n",
        "    def MSE(self,model_name,predict_y_test,y_test,label_name,fig_save_folder):\n",
        "        sum_MSE=0\n",
        "        for i in range(predict_y_test.shape[1]):\n",
        "            MSE= mean_squared_error(y_test[i], predict_y_test[i], squared=False)\n",
        "            self.plot_predict_GT(GT=y_test[:,i],\n",
        "                    predict=predict_y_test[:,i],\n",
        "                    RMSE=MSE,\n",
        "                    fig_save_folder=fig_save_folder,\n",
        "                    label_name=label_name[i])\n",
        "            sum_MSE=sum_MSE+MSE\n",
        "            print(model_name+' '+label_name[i]+' test MSE:',MSE)\n",
        "        return sum_MSE/6"
      ]
    },
    {
      "cell_type": "markdown",
      "metadata": {
        "id": "jB9_LCppTIzk"
      },
      "source": [
        "MyModel"
      ]
    },
    {
      "cell_type": "code",
      "execution_count": 9,
      "metadata": {
        "id": "Dz1TMN-STMTj"
      },
      "outputs": [],
      "source": [
        "from sklearn.multioutput import MultiOutputRegressor\n",
        "from sklearn.svm import SVR\n",
        "from sklearn.ensemble import RandomForestRegressor\n",
        "from sklearn.naive_bayes import GaussianNB\n",
        "import pickle\n",
        "import xgboost as xgb\n",
        "class model:\n",
        "\n",
        "    def __init__(self):\n",
        "        self.process=process()\n",
        "\n",
        "    def XGBoostmodel_model_train(self,X_train, X_val, y_train, y_val,label_name):\n",
        "        xgboost=xgb.XGBRegressor(max_depth=3, n_estimators=300, n_jobs=2,\n",
        "                           objectvie='reg:squarederror', booster='gbtree',\n",
        "                           random_state=42, learning_rate=0.05)\n",
        "        models = MultiOutputRegressor(xgboost)\n",
        "        models=models.fit(X_train, y_train)\n",
        "        pickle.dump(models, open('XGBoost', 'wb'))\n",
        "        predict_y_val=models.predict(X_val)\n",
        "        avgMSE=self.process.MSE('XGBoost',predict_y_val,y_val,label_name,'./val_XGBoost/')\n",
        "        return avgMSE\n",
        "\n",
        "    def XGBoostmodel_model_test(self,X_test,y_test,label_name):\n",
        "        models=pickle.load(open('XGBoost', 'rb'))\n",
        "        predict_y_test=models.predict(X_test)\n",
        "        avgMSE=self.process.MSE('XGBoost',predict_y_test,y_test,label_name,'./test_XGBoost/')\n",
        "        return avgMSE\n",
        "\n",
        "    def SVM_model_train(self,X_train, X_val, y_train, y_val,label_name):\n",
        "        svr  = SVR(kernel=\"rbf\", C=200, gamma=0.1, epsilon=0.1)\n",
        "        models =MultiOutputRegressor(svr) \n",
        "        models=models.fit(X_train, y_train)\n",
        "        predict_y_val = models.predict(X_val)\n",
        "        pickle.dump(models, open('SVM', 'wb'))\n",
        "        avgMSE=self.process.MSE('SVM',predict_y_val,y_val,label_name,'./val_SVM/')\n",
        "        return avgMSE\n",
        "\n",
        "    def SVM_model_test(self,X_test,y_test,label_name):\n",
        "        models=pickle.load(open('SVM', 'rb'))\n",
        "        predict_y_test=models.predict(X_test)\n",
        "        avgMSE=self.process.MSE('SVM',predict_y_test,y_test,label_name,'./test_SVM/')\n",
        "        return avgMSE\n",
        "\n",
        "\n",
        "    def RandomForest_model_train(self,X_train, X_val, y_train, y_val,label_name):\n",
        "        regr = RandomForestRegressor(max_depth=3, random_state=0)\n",
        "        models =MultiOutputRegressor(regr) \n",
        "        models=models.fit(X_train, y_train)\n",
        "        pickle.dump(models, open('RandomForest', 'wb'))\n",
        "        predict_y_val = models.predict(X_val)\n",
        "        avgMSE=self.process.MSE('RandomForest',predict_y_val,y_val,label_name,'./val_RandomForest/')\n",
        "        return avgMSE\n",
        "\n",
        "    def RandomForest_model_test(self,X_test,y_test,label_name):\n",
        "        models=pickle.load(open('RandomForest', 'rb'))\n",
        "        predict_y_test=models.predict(X_test)\n",
        "        avgMSE=self.process.MSE('RandomForest',predict_y_test,y_test,label_name,'./test_RandomForest/')\n",
        "        return avgMSE\n",
        "\n",
        "    def GaussianNB_model_train(self,X_train, X_val, y_train, y_val,label_name):\n",
        "        regr = GaussianNB()\n",
        "        models =MultiOutputRegressor(regr) \n",
        "        models=models.fit(X_train, y_train)\n",
        "        predict_y_val = models.predict(X_val)\n",
        "        pickle.dump(models, open('GaussianNB', 'wb'))\n",
        "        avgMSE=self.process.MSE('GaussianNB',predict_y_val,y_val,label_name,'./val_GaussianNB/')\n",
        "        return avgMSE\n",
        "\n",
        "    def GaussianNB_model_test(self,X_test,y_test,label_name):\n",
        "        models=pickle.load(open('GaussianNB', 'rb'))\n",
        "        predict_y_test=models.predict(X_test)\n",
        "        avgMSE=self.process.MSE('GaussianNB',predict_y_test,y_test,label_name,'./test_GaussianNB/')\n",
        "        return avgMSE\n",
        "\n"
      ]
    },
    {
      "cell_type": "markdown",
      "metadata": {
        "id": "X3vcqNNhSvOE"
      },
      "source": [
        "main主程式"
      ]
    },
    {
      "cell_type": "code",
      "execution_count": 10,
      "metadata": {
        "colab": {
          "base_uri": "https://localhost:8080/",
          "height": 1000
        },
        "id": "Fk_W34xgSjGz",
        "outputId": "7bc24a4a-e475-4420-b41f-e354a07058cf"
      },
      "outputs": [
        {
          "name": "stdout",
          "output_type": "stream",
          "text": [
            "=================training===============\n",
            "Toal number of NAN before replant: sensor_point5_i_value    0\n",
            "sensor_point6_i_value    0\n",
            "sensor_point7_i_value    0\n",
            "sensor_point8_i_value    0\n",
            "sensor_point9_i_value    0\n",
            "                        ..\n",
            "env_rpi15_lux            0\n",
            "env_rpi15_pm1            0\n",
            "env_rpi15_pm10           0\n",
            "env_rpi15_pm25           0\n",
            "env_rpi15_temp           0\n",
            "Length: 131, dtype: int64\n",
            "Toal number of NAN after replant: sensor_point5_i_value    0\n",
            "sensor_point6_i_value    0\n",
            "sensor_point7_i_value    0\n",
            "sensor_point8_i_value    0\n",
            "sensor_point9_i_value    0\n",
            "                        ..\n",
            "env_rpi15_lux            0\n",
            "env_rpi15_pm1            0\n",
            "env_rpi15_pm10           0\n",
            "env_rpi15_pm25           0\n",
            "env_rpi15_temp           0\n",
            "Length: 131, dtype: int64\n",
            "X_train: (508, 125)\n",
            "y_train: (508, 6)\n",
            "X_val: (127, 125)\n",
            "y_val: (127, 6)\n"
          ]
        },
        {
          "name": "stderr",
          "output_type": "stream",
          "text": [
            "/home/vuthanh/.local/lib/python3.10/site-packages/sklearn/metrics/_regression.py:483: FutureWarning: 'squared' is deprecated in version 1.4 and will be removed in 1.6. To calculate the root mean squared error, use the function'root_mean_squared_error'.\n",
            "  warnings.warn(\n",
            "/home/vuthanh/.local/lib/python3.10/site-packages/sklearn/metrics/_regression.py:483: FutureWarning: 'squared' is deprecated in version 1.4 and will be removed in 1.6. To calculate the root mean squared error, use the function'root_mean_squared_error'.\n",
            "  warnings.warn(\n",
            "/home/vuthanh/.local/lib/python3.10/site-packages/sklearn/metrics/_regression.py:483: FutureWarning: 'squared' is deprecated in version 1.4 and will be removed in 1.6. To calculate the root mean squared error, use the function'root_mean_squared_error'.\n",
            "  warnings.warn(\n"
          ]
        },
        {
          "name": "stdout",
          "output_type": "stream",
          "text": [
            "SVM sensor_point5_i_value test MSE: 16.139879192825212\n",
            "SVM sensor_point6_i_value test MSE: 12.81297264932475\n",
            "SVM sensor_point7_i_value test MSE: 5.4231766027281045\n"
          ]
        },
        {
          "name": "stderr",
          "output_type": "stream",
          "text": [
            "/home/vuthanh/.local/lib/python3.10/site-packages/sklearn/metrics/_regression.py:483: FutureWarning: 'squared' is deprecated in version 1.4 and will be removed in 1.6. To calculate the root mean squared error, use the function'root_mean_squared_error'.\n",
            "  warnings.warn(\n",
            "/home/vuthanh/.local/lib/python3.10/site-packages/sklearn/metrics/_regression.py:483: FutureWarning: 'squared' is deprecated in version 1.4 and will be removed in 1.6. To calculate the root mean squared error, use the function'root_mean_squared_error'.\n",
            "  warnings.warn(\n"
          ]
        },
        {
          "name": "stdout",
          "output_type": "stream",
          "text": [
            "SVM sensor_point8_i_value test MSE: 38.26587650379034\n",
            "SVM sensor_point9_i_value test MSE: 16.903742993702572\n",
            "SVM sensor_point10_i_value test MSE: 31.829501799519605\n",
            "val: SVM,avgMSE: 20.22919162364843\n"
          ]
        },
        {
          "name": "stderr",
          "output_type": "stream",
          "text": [
            "/home/vuthanh/.local/lib/python3.10/site-packages/sklearn/metrics/_regression.py:483: FutureWarning: 'squared' is deprecated in version 1.4 and will be removed in 1.6. To calculate the root mean squared error, use the function'root_mean_squared_error'.\n",
            "  warnings.warn(\n",
            "/home/vuthanh/.local/lib/python3.10/site-packages/sklearn/metrics/_regression.py:483: FutureWarning: 'squared' is deprecated in version 1.4 and will be removed in 1.6. To calculate the root mean squared error, use the function'root_mean_squared_error'.\n",
            "  warnings.warn(\n"
          ]
        },
        {
          "name": "stdout",
          "output_type": "stream",
          "text": [
            "GaussianNB sensor_point5_i_value test MSE: 14.047538337136986\n",
            "GaussianNB sensor_point6_i_value test MSE: 34.53500639447844\n",
            "GaussianNB sensor_point7_i_value test MSE: 25.19589913722734\n"
          ]
        },
        {
          "name": "stderr",
          "output_type": "stream",
          "text": [
            "/home/vuthanh/.local/lib/python3.10/site-packages/sklearn/metrics/_regression.py:483: FutureWarning: 'squared' is deprecated in version 1.4 and will be removed in 1.6. To calculate the root mean squared error, use the function'root_mean_squared_error'.\n",
            "  warnings.warn(\n",
            "/home/vuthanh/.local/lib/python3.10/site-packages/sklearn/metrics/_regression.py:483: FutureWarning: 'squared' is deprecated in version 1.4 and will be removed in 1.6. To calculate the root mean squared error, use the function'root_mean_squared_error'.\n",
            "  warnings.warn(\n",
            "/home/vuthanh/.local/lib/python3.10/site-packages/sklearn/metrics/_regression.py:483: FutureWarning: 'squared' is deprecated in version 1.4 and will be removed in 1.6. To calculate the root mean squared error, use the function'root_mean_squared_error'.\n",
            "  warnings.warn(\n"
          ]
        },
        {
          "name": "stdout",
          "output_type": "stream",
          "text": [
            "GaussianNB sensor_point8_i_value test MSE: 55.18302879207217\n",
            "GaussianNB sensor_point9_i_value test MSE: 30.542320365901038\n",
            "GaussianNB sensor_point10_i_value test MSE: 21.740898478827106\n",
            "val:GaussianNB,avgMSE: 30.207448584273845\n"
          ]
        },
        {
          "name": "stderr",
          "output_type": "stream",
          "text": [
            "/home/vuthanh/.local/lib/python3.10/site-packages/sklearn/metrics/_regression.py:483: FutureWarning: 'squared' is deprecated in version 1.4 and will be removed in 1.6. To calculate the root mean squared error, use the function'root_mean_squared_error'.\n",
            "  warnings.warn(\n",
            "/home/vuthanh/.local/lib/python3.10/site-packages/sklearn/metrics/_regression.py:483: FutureWarning: 'squared' is deprecated in version 1.4 and will be removed in 1.6. To calculate the root mean squared error, use the function'root_mean_squared_error'.\n",
            "  warnings.warn(\n",
            "/home/vuthanh/.local/lib/python3.10/site-packages/xgboost/core.py:158: UserWarning: [13:46:46] WARNING: /workspace/src/learner.cc:740: \n",
            "Parameters: { \"objectvie\" } are not used.\n",
            "\n",
            "  warnings.warn(smsg, UserWarning)\n",
            "/home/vuthanh/.local/lib/python3.10/site-packages/xgboost/core.py:158: UserWarning: [13:46:47] WARNING: /workspace/src/learner.cc:740: \n",
            "Parameters: { \"objectvie\" } are not used.\n",
            "\n",
            "  warnings.warn(smsg, UserWarning)\n",
            "/home/vuthanh/.local/lib/python3.10/site-packages/sklearn/metrics/_regression.py:483: FutureWarning: 'squared' is deprecated in version 1.4 and will be removed in 1.6. To calculate the root mean squared error, use the function'root_mean_squared_error'.\n",
            "  warnings.warn(\n",
            "/home/vuthanh/.local/lib/python3.10/site-packages/sklearn/metrics/_regression.py:483: FutureWarning: 'squared' is deprecated in version 1.4 and will be removed in 1.6. To calculate the root mean squared error, use the function'root_mean_squared_error'.\n",
            "  warnings.warn(\n",
            "/home/vuthanh/.local/lib/python3.10/site-packages/sklearn/metrics/_regression.py:483: FutureWarning: 'squared' is deprecated in version 1.4 and will be removed in 1.6. To calculate the root mean squared error, use the function'root_mean_squared_error'.\n",
            "  warnings.warn(\n"
          ]
        },
        {
          "name": "stdout",
          "output_type": "stream",
          "text": [
            "XGBoost sensor_point5_i_value test MSE: 14.752534500659559\n",
            "XGBoost sensor_point6_i_value test MSE: 13.7664340592559\n",
            "XGBoost sensor_point7_i_value test MSE: 11.54918448209417\n"
          ]
        },
        {
          "name": "stderr",
          "output_type": "stream",
          "text": [
            "/home/vuthanh/.local/lib/python3.10/site-packages/sklearn/metrics/_regression.py:483: FutureWarning: 'squared' is deprecated in version 1.4 and will be removed in 1.6. To calculate the root mean squared error, use the function'root_mean_squared_error'.\n",
            "  warnings.warn(\n",
            "/home/vuthanh/.local/lib/python3.10/site-packages/sklearn/metrics/_regression.py:483: FutureWarning: 'squared' is deprecated in version 1.4 and will be removed in 1.6. To calculate the root mean squared error, use the function'root_mean_squared_error'.\n",
            "  warnings.warn(\n",
            "/home/vuthanh/.local/lib/python3.10/site-packages/sklearn/metrics/_regression.py:483: FutureWarning: 'squared' is deprecated in version 1.4 and will be removed in 1.6. To calculate the root mean squared error, use the function'root_mean_squared_error'.\n",
            "  warnings.warn(\n"
          ]
        },
        {
          "name": "stdout",
          "output_type": "stream",
          "text": [
            "XGBoost sensor_point8_i_value test MSE: 27.189852365982038\n",
            "XGBoost sensor_point9_i_value test MSE: 13.634835352815418\n",
            "XGBoost sensor_point10_i_value test MSE: 14.166808274850768\n",
            "val:XGBoost,avgMSE: 15.843274839276306\n"
          ]
        },
        {
          "name": "stderr",
          "output_type": "stream",
          "text": [
            "/home/vuthanh/.local/lib/python3.10/site-packages/sklearn/metrics/_regression.py:483: FutureWarning: 'squared' is deprecated in version 1.4 and will be removed in 1.6. To calculate the root mean squared error, use the function'root_mean_squared_error'.\n",
            "  warnings.warn(\n",
            "/home/vuthanh/.local/lib/python3.10/site-packages/sklearn/metrics/_regression.py:483: FutureWarning: 'squared' is deprecated in version 1.4 and will be removed in 1.6. To calculate the root mean squared error, use the function'root_mean_squared_error'.\n",
            "  warnings.warn(\n",
            "/home/vuthanh/.local/lib/python3.10/site-packages/sklearn/metrics/_regression.py:483: FutureWarning: 'squared' is deprecated in version 1.4 and will be removed in 1.6. To calculate the root mean squared error, use the function'root_mean_squared_error'.\n",
            "  warnings.warn(\n"
          ]
        },
        {
          "name": "stdout",
          "output_type": "stream",
          "text": [
            "RandomForest sensor_point5_i_value test MSE: 12.167879162028257\n",
            "RandomForest sensor_point6_i_value test MSE: 10.113499244452854\n",
            "RandomForest sensor_point7_i_value test MSE: 14.192474324274624\n"
          ]
        },
        {
          "name": "stderr",
          "output_type": "stream",
          "text": [
            "/home/vuthanh/.local/lib/python3.10/site-packages/sklearn/metrics/_regression.py:483: FutureWarning: 'squared' is deprecated in version 1.4 and will be removed in 1.6. To calculate the root mean squared error, use the function'root_mean_squared_error'.\n",
            "  warnings.warn(\n",
            "/home/vuthanh/.local/lib/python3.10/site-packages/sklearn/metrics/_regression.py:483: FutureWarning: 'squared' is deprecated in version 1.4 and will be removed in 1.6. To calculate the root mean squared error, use the function'root_mean_squared_error'.\n",
            "  warnings.warn(\n",
            "/home/vuthanh/.local/lib/python3.10/site-packages/sklearn/metrics/_regression.py:483: FutureWarning: 'squared' is deprecated in version 1.4 and will be removed in 1.6. To calculate the root mean squared error, use the function'root_mean_squared_error'.\n",
            "  warnings.warn(\n"
          ]
        },
        {
          "name": "stdout",
          "output_type": "stream",
          "text": [
            "RandomForest sensor_point8_i_value test MSE: 26.20205272238711\n",
            "RandomForest sensor_point9_i_value test MSE: 15.556644722548338\n",
            "RandomForest sensor_point10_i_value test MSE: 13.548858374328871\n",
            "val:RandomForest,avgMSE: 15.296901425003343\n"
          ]
        },
        {
          "data": {
            "text/plain": [
              "<Figure size 640x480 with 0 Axes>"
            ]
          },
          "metadata": {},
          "output_type": "display_data"
        }
      ],
      "source": [
        "import os \n",
        "def main(models,train_mode=True):\n",
        "    _model=model()\n",
        "    _preprocess=process()\n",
        "\n",
        "    if(train_mode):\n",
        "\n",
        "        print('=================training===============')\n",
        "        data=_preprocess.load_dataset('training.xlsx',train_mode)\n",
        "        data=_preprocess.fillnan(data,drop_nan=False)\n",
        "        label_name=['sensor_point5_i_value',\n",
        "                    'sensor_point6_i_value',\n",
        "                    'sensor_point7_i_value',\n",
        "                    'sensor_point8_i_value',\n",
        "                    'sensor_point9_i_value',\n",
        "                    'sensor_point10_i_value',\n",
        "                                    ]\n",
        "        X,Y=_preprocess.Get_Data_and_label(data,label_col=label_name,train_mode=True)\n",
        "        X_train, X_val, y_train, y_val=_preprocess.splitdata(X,Y)\n",
        "\n",
        "        X_val_normalize=_preprocess.Normalization(X_val)\n",
        "        X_train_normalize=_preprocess.Normalization(X_train)\n",
        "\n",
        "        print('X_train:',X_train_normalize.shape)\n",
        "        print('y_train:',y_train.shape)\n",
        "        print('X_val:',X_val_normalize.shape)\n",
        "        print('y_val:',y_val.shape)\n",
        "   \n",
        "        for model_name in models:\n",
        "            isExist = os.path.exists('val_'+model_name)\n",
        "            if not isExist:\n",
        "              os.makedirs('val_'+model_name)\n",
        "\n",
        "            if(model_name=='SVM'):\n",
        "                avgMSE=_model.SVM_model_train(X_train_normalize, X_val_normalize, y_train, y_val,label_name)\n",
        "                print('val:',model_name+',avgMSE:',avgMSE)\n",
        "\n",
        "            elif(model_name=='GaussianNB'):\n",
        "                avgMSE=_model.GaussianNB_model_train(X_train_normalize, X_val_normalize, y_train, y_val,label_name)\n",
        "                print('val:'+model_name+',avgMSE:',avgMSE)\n",
        "\n",
        "            elif(model_name=='XGBoost'):\n",
        "                avgMSE=_model.XGBoostmodel_model_train(X_train_normalize,X_val_normalize , y_train, y_val,label_name)\n",
        "                print('val:'+model_name+',avgMSE:',avgMSE)\n",
        "\n",
        "\n",
        "\n",
        "            elif(model_name=='RandomForest'):\n",
        "                avgMSE=_model.RandomForest_model_train(X_train_normalize, X_val_normalize, y_train, y_val,label_name)\n",
        "                print('val:'+model_name+',avgMSE:',avgMSE)\n",
        "\n",
        "    else:\n",
        "        print('=================testing===============')\n",
        "        data=_preprocess.load_dataset('testing.xlsx',train_mode)\n",
        "        data_ans=_preprocess.load_dataset('testing_ans.xlsx')\n",
        "\n",
        "        data=_preprocess.fillnan(data,drop_nan=False)\n",
        "        label_name=['sensor_point5_i_value',\n",
        "                    'sensor_point6_i_value',\n",
        "                    'sensor_point7_i_value',\n",
        "                    'sensor_point8_i_value',\n",
        "                    'sensor_point9_i_value',\n",
        "                    'sensor_point10_i_value',\n",
        "                                    ]\n",
        "        \n",
        "        X,_=_preprocess.Get_Data_and_label(data,label_col=label_name,train_mode=False)\n",
        "        _,Y=_preprocess.Get_Data_and_label(data_ans,label_col=label_name,train_mode=True)\n",
        "\n",
        "        # X_shuffled,y_shuffled = _preprocess.shuffle(X,Y)\n",
        "        X_test_normalize=_preprocess.Normalization(X)\n",
        "\n",
        "\n",
        "        print('X_test',X_test_normalize.shape)\n",
        "        print('y_test:',Y.shape)\n",
        "   \n",
        "        for model_name in models:\n",
        "            isExist = os.path.exists('test_'+model_name)\n",
        "            if not isExist:\n",
        "              os.makedirs('test_'+model_name)\n",
        "            if(model_name=='SVM'):\n",
        "                avgMSE=_model.SVM_model_test(X_test_normalize,Y,label_name)\n",
        "                print('test:'+model_name+',avgMSE:',avgMSE)\n",
        "            elif(model_name=='GaussianNB'):\n",
        "                avgMSE=_model.GaussianNB_model_test(X_test_normalize,Y,label_name)\n",
        "                print('test:'+model_name+',MSE:',avgMSE)\n",
        "            elif(model_name=='XGBoost'):\n",
        "                avgMSE=_model.XGBoostmodel_model_test(X_test_normalize,Y,label_name)\n",
        "                print('test:'+model_name+',avgMSE:',avgMSE)\n",
        "            elif(model_name=='RandomForest'):\n",
        "                avgMSE=_model.RandomForest_model_test(X_test_normalize,Y,label_name)\n",
        "                print('test:'+model_name+',avgMSE:',avgMSE)\n",
        "\n",
        "\n",
        "if __name__ == '__main__':\n",
        "    models=['SVM','GaussianNB','XGBoost','RandomForest']\n",
        "    main(models,train_mode=True)\n"
      ]
    }
  ],
  "metadata": {
    "colab": {
      "provenance": []
    },
    "kernelspec": {
      "display_name": "Python 3",
      "name": "python3"
    },
    "language_info": {
      "codemirror_mode": {
        "name": "ipython",
        "version": 3
      },
      "file_extension": ".py",
      "mimetype": "text/x-python",
      "name": "python",
      "nbconvert_exporter": "python",
      "pygments_lexer": "ipython3",
      "version": "3.10.12"
    }
  },
  "nbformat": 4,
  "nbformat_minor": 0
}
